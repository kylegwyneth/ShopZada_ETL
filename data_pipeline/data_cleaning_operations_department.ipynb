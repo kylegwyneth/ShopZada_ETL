{
 "cells": [
  {
   "cell_type": "code",
   "execution_count": 102,
   "id": "4f9d00af-fbff-4abb-b128-bf38c5161c61",
   "metadata": {},
   "outputs": [
    {
     "name": "stdout",
     "output_type": "stream",
     "text": [
      "Succesfuly Loaded line_item_data_prices (3 files)\n",
      "Succesfuly Concatinated line_item_data_prices (3 files)\n",
      "Succesfuly Loaded line_item_data_products (3 files)\n",
      "Succesfuly Concatinated line_item_data_products (3 files)\n",
      "Succesfuly Loaded order_data (6 files)\n",
      "Succesfuly Concatinated order_data (6 files)\n",
      "Succesfuly Loaded order_delays\n"
     ]
    }
   ],
   "source": [
    "import pandas as pd\n",
    "import numpy as np\n",
    "\n",
    "# load and concat line_item_data_prices.*\n",
    "df_line_item_data_prices1 = pd.read_csv('../data/operations_department/line_item_data_prices1.csv')\n",
    "df_line_item_data_prices2 = pd.read_csv('../data/operations_department/line_item_data_prices2.csv')\n",
    "df_line_item_data_prices3 = pd.read_parquet('../data/operations_department/line_item_data_prices3.parquet')\n",
    "print(\"Succesfuly Loaded line_item_data_prices (3 files)\")\n",
    "df_line_item_data_prices_concat = pd.concat([df_line_item_data_prices1, df_line_item_data_prices2, df_line_item_data_prices3])\n",
    "df_line_item_data_prices_concat.rename( columns={'Unnamed: 0':'index'}, inplace=True ) # add name to index column\n",
    "df_line_item_data_prices_concat.drop([\"index\"], axis=1, inplace=True) #remove index columns\n",
    "print(\"Succesfuly Concatinated line_item_data_prices (3 files)\")\n",
    "\n",
    "# load and concat line_item_data_products.*\n",
    "df_line_item_data_products1 = pd.read_csv('../data/operations_department/line_item_data_products1.csv')\n",
    "df_line_item_data_products2 = pd.read_csv('../data/operations_department/line_item_data_products2.csv')\n",
    "df_line_item_data_products3 = pd.read_parquet('../data/operations_department/line_item_data_products3.parquet')\n",
    "print(\"Succesfuly Loaded line_item_data_products (3 files)\")\n",
    "df_line_item_data_products_concat = pd.concat([df_line_item_data_products1, df_line_item_data_products2, df_line_item_data_products3])\n",
    "df_line_item_data_products_concat.rename( columns={'Unnamed: 0':'index'}, inplace=True ) # add name to index column\n",
    "df_line_item_data_products_concat.drop([\"index\"], axis=1, inplace=True) #remove index columns\n",
    "print(\"Succesfuly Concatinated line_item_data_products (3 files)\")\n",
    "\n",
    "# load and concat order_data_.*\n",
    "df_order_data1 = pd.read_parquet('../data/operations_department/order_data_20200101-20200701.parquet')\n",
    "df_order_data2 = pd.read_pickle('../data/operations_department/order_data_20200701-20211001.pickle')\n",
    "df_order_data3 = pd.read_csv('../data/operations_department/order_data_20211001-20220101.csv')\n",
    "df_order_data4 = pd.read_excel('../data/operations_department/order_data_20220101-20221201.xlsx')\n",
    "df_order_data5 = pd.read_json('../data/operations_department/order_data_20221201-20230601.json')\n",
    "df_order_data6_list = pd.read_html('../data/operations_department/order_data_20230601-20240101.html')\n",
    "df_order_data6 = df_order_data6_list[0]\n",
    "print(\"Succesfuly Loaded order_data (6 files)\")\n",
    "df_order_data_concat = pd.concat([df_order_data1, df_order_data2, df_order_data3, df_order_data4, df_order_data5, df_order_data6])\n",
    "df_order_data_concat.rename( columns={'Unnamed: 0':'index'}, inplace=True ) # add name to index column\n",
    "df_order_data_concat.drop([\"index\"], axis=1, inplace=True) #remove index columns\n",
    "print(\"Succesfuly Concatinated order_data (6 files)\")\n",
    "\n",
    "# load order_delays.html\n",
    "df_order_delays_list = pd.read_html('../data/operations_department/order_delays.html')\n",
    "df_order_delays = df_order_delays_list[0]\n",
    "df_order_delays.rename( columns={'Unnamed: 0':'index'}, inplace=True ) # add name to index column\n",
    "df_order_delays.drop([\"index\"], axis=1, inplace=True) #remove index columns\n",
    "print(\"Succesfuly Loaded order_delays\")"
   ]
  },
  {
   "cell_type": "code",
   "execution_count": 104,
   "id": "256d8f74-0c07-4f29-873b-ab7e5a77b0d5",
   "metadata": {},
   "outputs": [],
   "source": [
    "# line_item_data_prices info\n",
    "# print(df_line_item_data_prices1.info())\n",
    "# print(df_line_item_data_prices2.info())\n",
    "# print(df_line_item_data_prices3.info())\n",
    "# print(df_line_item_data_prices_concat.info())\n",
    "\n",
    "# line_item_data_products info\n",
    "# print(df_line_item_data_products1.info())\n",
    "# print(df_line_item_data_products2.info())\n",
    "# print(df_line_item_data_products3.info())\n",
    "# print(df_line_item_data_products_concat.info())\n",
    "\n",
    "# order_data info\n",
    "# print(df_order_data1.info())\n",
    "# print(df_order_data2.info())\n",
    "# print(df_order_data3.info())\n",
    "# print(df_order_data4.info())\n",
    "# print(df_order_data5.info())\n",
    "# print(df_order_data6.info())\n",
    "# print(df_order_data_concat.info())\n",
    "\n",
    "# print(df_order_delays.info())"
   ]
  },
  {
   "cell_type": "code",
   "execution_count": 106,
   "id": "97b695c5-9393-46e9-acc0-c238e85a377d",
   "metadata": {},
   "outputs": [
    {
     "name": "stdout",
     "output_type": "stream",
     "text": [
      "(200000, 2)\n"
     ]
    }
   ],
   "source": [
    "# print(df_line_item_data_prices1.shape)\n",
    "# print(df_line_item_data_prices2.shape)\n",
    "# print(df_line_item_data_prices3.shape)\n",
    "# print(df_line_item_data_prices_concat.shape)\n",
    "\n",
    "# print(df_line_item_data_products1.shape)\n",
    "# print(df_line_item_data_products2.shape)\n",
    "# print(df_line_item_data_products3.shape)\n",
    "# print(df_line_item_data_products_concat.shape)\n",
    "\n",
    "# print(df_order_data1.shape)\n",
    "# print(df_order_data2.shape)\n",
    "# print(df_order_data3.shape)\n",
    "# print(df_order_data4.shape)\n",
    "# print(df_order_data5.shape)\n",
    "# print(df_order_data6.shape)\n",
    "#print(df_order_data_concat.shape)\n",
    "\n",
    "# print(df_order_delays.shape)"
   ]
  },
  {
   "cell_type": "code",
   "execution_count": 107,
   "id": "f74a89ac-2a8f-4d22-91eb-45583ea3c999",
   "metadata": {},
   "outputs": [],
   "source": [
    "# df_order_data_concat.tail(30)"
   ]
  }
 ],
 "metadata": {
  "kernelspec": {
   "display_name": "Python 3 (ipykernel)",
   "language": "python",
   "name": "python3"
  },
  "language_info": {
   "codemirror_mode": {
    "name": "ipython",
    "version": 3
   },
   "file_extension": ".py",
   "mimetype": "text/x-python",
   "name": "python",
   "nbconvert_exporter": "python",
   "pygments_lexer": "ipython3",
   "version": "3.12.0"
  }
 },
 "nbformat": 4,
 "nbformat_minor": 5
}
